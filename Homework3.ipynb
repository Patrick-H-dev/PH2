{
 "cells": [
  {
   "cell_type": "markdown",
   "metadata": {},
   "source": [
    "# Homework3"
   ]
  },
  {
   "cell_type": "code",
   "execution_count": 4,
   "metadata": {},
   "outputs": [],
   "source": [
    "import csv, os\n",
    "import pandas as pd"
   ]
  },
  {
   "cell_type": "markdown",
   "metadata": {},
   "source": [
    "#### Wyszukanie plików .csv z cenami akcji w bieżącym katalogu"
   ]
  },
  {
   "cell_type": "code",
   "execution_count": 5,
   "metadata": {},
   "outputs": [
    {
     "name": "stdout",
     "output_type": "stream",
     "text": [
      "Obecny katalog: C:\\Users\\patri \n",
      "\n",
      "Wykryto pliki csv: ['GOOG.csv', 'IBM.csv', 'MSFT.csv']\n",
      "\n",
      "Znaleziono ceny akcji w plikach: ['GOOG.csv', 'IBM.csv', 'MSFT.csv']\n"
     ]
    }
   ],
   "source": [
    "csv_files = []\n",
    "stock_files = []\n",
    "\n",
    "for file in os.listdir('.'):\n",
    "    if not file.endswith('.csv'):\n",
    "        continue\n",
    "    csv_files.append(file)\n",
    "    csvFileObj = open(file)\n",
    "    readerObj = csv.reader(csvFileObj)\n",
    "    row0 = next(readerObj)\n",
    "    if \"Open\" and \"Close\" in row0:\n",
    "        stock_files.append(file)\n",
    "\n",
    "print(\"Obecny katalog:\", os.getcwd(), \"\\n\")\n",
    "print(\"Wykryto pliki csv:\", csv_files)   \n",
    "print(\"\\nZnaleziono ceny akcji w plikach:\", stock_files)"
   ]
  },
  {
   "cell_type": "markdown",
   "metadata": {},
   "source": [
    "#### Dodanie kolumny zmiany procentowej i zapis do nowego pliku"
   ]
  },
  {
   "cell_type": "code",
   "execution_count": 6,
   "metadata": {},
   "outputs": [
    {
     "name": "stdout",
     "output_type": "stream",
     "text": [
      "Stworzono GOOG_updated.csv\n",
      "Stworzono IBM_updated.csv\n",
      "Stworzono MSFT_updated.csv\n"
     ]
    }
   ],
   "source": [
    "for file in stock_files:\n",
    "    new_filename = file[:-4] + \"_updated.csv\"\n",
    "    data = pd.read_csv(file)\n",
    "    data['Change'] = round((data['Close'] - data['Open']) / data['Open'] * 100, 2).apply( lambda x : str(x) + '%')\n",
    "    data.to_csv(new_filename, sep=',', index=False)\n",
    "    print(\"Stworzono\",new_filename)"
   ]
  },
  {
   "cell_type": "code",
   "execution_count": null,
   "metadata": {},
   "outputs": [],
   "source": []
  },
  {
   "cell_type": "code",
   "execution_count": null,
   "metadata": {},
   "outputs": [],
   "source": []
  }
 ],
 "metadata": {
  "kernelspec": {
   "display_name": "Python 3",
   "language": "python",
   "name": "python3"
  },
  "language_info": {
   "codemirror_mode": {
    "name": "ipython",
    "version": 3
   },
   "file_extension": ".py",
   "mimetype": "text/x-python",
   "name": "python",
   "nbconvert_exporter": "python",
   "pygments_lexer": "ipython3",
   "version": "3.7.4"
  }
 },
 "nbformat": 4,
 "nbformat_minor": 2
}
