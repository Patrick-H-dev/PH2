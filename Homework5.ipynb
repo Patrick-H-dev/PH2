{
 "cells": [
  {
   "cell_type": "code",
   "execution_count": 1,
   "metadata": {},
   "outputs": [],
   "source": [
    "import math\n",
    "from abc import ABC, abstractmethod\n",
    "\n",
    "\n",
    "class Shape(ABC):\n",
    "    def __init__(self, a=8, b=9):\n",
    "        self.set_params(a, b)\n",
    "\n",
    "    @abstractmethod\n",
    "    def calc_surface(self):\n",
    "        pass\n",
    "\n",
    "    def set_params(self, a, b):\n",
    "        self._a = a\n",
    "        self._b = b\n",
    "        \n",
    "    def get_a(self):\n",
    "        return self._a\n",
    "\n",
    "    def get_b(self):\n",
    "        return self._b\n",
    "\n",
    "    def __repr__(self):\n",
    "        return self.__class__.__name__ + \" [\" + str(self._a) + \" by \" + str(self._b) + \"] at \" + str(hex(id(self)))\n",
    "\n",
    "    \n",
    "    \n",
    "class Rectangle(Shape):\n",
    "    def calc_surface(self):\n",
    "        return self._a * self._b\n",
    "    def calc_perimeter(self):\n",
    "        return 2 * self._a + 2 * self._b\n",
    "\n",
    "    \n",
    "    \n",
    "class Square(Rectangle):\n",
    "    pass\n",
    "\n",
    "    \n",
    "class Circle(Shape):\n",
    "    def __init__(self, a):\n",
    "        super().__init__(a, 0)\n",
    "        \n",
    "    def calc_surface(self):\n",
    "        return math.pi * self._a ** 2\n",
    "    \n",
    "    def calc_perimeter(self):\n",
    "        return 2 * math.pi * self._a\n",
    "\n",
    "    def __repr__(self):\n",
    "        return self.__class__.__name__ + \" [r=\" + str(self._a) + \"] at \" + str(hex(id(self)))\n",
    "\n",
    "    \n",
    "\n",
    "class Triangle(Shape):\n",
    "    def __init__(self, h,a,b,c):\n",
    "        self.h = h\n",
    "        self.a = a\n",
    "        self.b = b\n",
    "        self.c = c\n",
    "    def calc_surface(self):\n",
    "        return self.h * self.a * 0.5\n",
    "    def calc_perimeter(self):\n",
    "        return self.a + self.b + self.c\n",
    "    def __repr__(self):\n",
    "        return self.__class__.__name__ + \" [h:\" + str(self.h)  + \" a:\" + str(self.a) + \" b:\" + str(self.b) + \" c:\" + str(self.c) + \"] at \" + str(hex(id(self)))\n",
    "\n",
    "    \n",
    "    \n",
    "class EquilateralTriangle(Shape):\n",
    "    def __init__(self, a):\n",
    "        super().__init__(a, 0)\n",
    "        \n",
    "    def calc_surface(self):\n",
    "        return (self._a ** 2 * math.sqrt(3)) / 4\n",
    "    \n",
    "    def calc_perimeter(self):\n",
    "        return 3 * self._a\n",
    "\n",
    "    def __repr__(self):\n",
    "        return self.__class__.__name__ + \" [a=\" + str(self._a) + \"] at \" + str(hex(id(self)))  \n",
    "    "
   ]
  },
  {
   "cell_type": "markdown",
   "metadata": {},
   "source": [
    "### Testy"
   ]
  },
  {
   "cell_type": "code",
   "execution_count": 2,
   "metadata": {},
   "outputs": [
    {
     "name": "stdout",
     "output_type": "stream",
     "text": [
      "Rectangle [4 by 6] at 0x1c3306a0a48\n",
      "a: 4\n",
      "b: 6 \n",
      "\n",
      "a: 7\n",
      "b: 8 \n",
      "\n",
      "Pp: 56\n",
      "Obw: 30\n"
     ]
    }
   ],
   "source": [
    "r1 = Rectangle(4, 6)\n",
    "print(r1)\n",
    "\n",
    "print(\"a:\",r1.get_a())\n",
    "print(\"b:\",r1.get_b(), \"\\n\")\n",
    "\n",
    "r1.set_params(7,8)\n",
    "\n",
    "print(\"a:\",r1.get_a())\n",
    "print(\"b:\",r1.get_b(), \"\\n\")\n",
    "\n",
    "print(\"Pp:\", r1.calc_surface())\n",
    "print(\"Obw:\", r1.calc_perimeter())"
   ]
  },
  {
   "cell_type": "code",
   "execution_count": 3,
   "metadata": {},
   "outputs": [
    {
     "name": "stdout",
     "output_type": "stream",
     "text": [
      "Circle [r=5] at 0x1c3306a0388\n",
      "r: 5\n",
      "Pp: 78.53981633974483\n",
      "Obw: 31.41592653589793\n"
     ]
    }
   ],
   "source": [
    "c1 = Circle(5)\n",
    "print(c1)\n",
    "print(\"r:\", c1.get_a())\n",
    "print(\"Pp:\", c1.calc_surface())\n",
    "print(\"Obw:\", c1.calc_perimeter())"
   ]
  },
  {
   "cell_type": "code",
   "execution_count": 4,
   "metadata": {},
   "outputs": [
    {
     "name": "stdout",
     "output_type": "stream",
     "text": [
      "Triangle [h:4 a:6 b:2 c:2] at 0x1c3306a26c8\n",
      "Pp: 12.0\n",
      "Obw: 10\n"
     ]
    }
   ],
   "source": [
    "t1 = Triangle(4,6,2,2) # h,a,b,c\n",
    "print(t1)\n",
    "print(\"Pp:\", t1.calc_surface())\n",
    "print(\"Obw:\", t1.calc_perimeter())"
   ]
  },
  {
   "cell_type": "code",
   "execution_count": 5,
   "metadata": {},
   "outputs": [
    {
     "name": "stdout",
     "output_type": "stream",
     "text": [
      "EquilateralTriangle [a=5] at 0x1c33076e088\n",
      "a: 5\n",
      "Pp: 10.825317547305483\n",
      "Obw: 15\n"
     ]
    }
   ],
   "source": [
    "et1 = EquilateralTriangle(5)\n",
    "print(et1)\n",
    "print(\"a:\", et1.get_a())\n",
    "print(\"Pp:\", et1.calc_surface())\n",
    "print(\"Obw:\", et1.calc_perimeter())"
   ]
  },
  {
   "cell_type": "code",
   "execution_count": 6,
   "metadata": {},
   "outputs": [
    {
     "name": "stdout",
     "output_type": "stream",
     "text": [
      "Square [150 by 150] at 0x1c330776448\n",
      "a: 150\n",
      "Pp: 22500\n",
      "Obw: 600\n"
     ]
    }
   ],
   "source": [
    "s1 = Square(150,150)\n",
    "print(s1)\n",
    "print(\"a:\", s1.get_a())\n",
    "print(\"Pp:\", s1.calc_surface())\n",
    "print(\"Obw:\", s1.calc_perimeter())"
   ]
  }
 ],
 "metadata": {
  "kernelspec": {
   "display_name": "Python 3",
   "language": "python",
   "name": "python3"
  },
  "language_info": {
   "codemirror_mode": {
    "name": "ipython",
    "version": 3
   },
   "file_extension": ".py",
   "mimetype": "text/x-python",
   "name": "python",
   "nbconvert_exporter": "python",
   "pygments_lexer": "ipython3",
   "version": "3.7.4"
  }
 },
 "nbformat": 4,
 "nbformat_minor": 2
}
