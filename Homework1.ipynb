{
 "cells": [
  {
   "cell_type": "code",
   "execution_count": 1,
   "metadata": {},
   "outputs": [
    {
     "name": "stdout",
     "output_type": "stream",
     "text": [
      "Prime numbers between 1 and  50  are:\n",
      "2 3 5 7 11 13 17 19 23 29 31 37 41 43 47 "
     ]
    }
   ],
   "source": [
    "# Program that print the first N prime numbers\n",
    "\n",
    "def print_first_N_primes(N): \n",
    "\n",
    "    a, b, c = 0, 0, 0; \n",
    "\n",
    "    print(\"Prime numbers between 1 and \", \n",
    "                            N , \" are:\"); \n",
    "\n",
    "    for a in range(1, N + 1, 1): \n",
    "\n",
    "\n",
    "        if (a == 1 or a == 0): \n",
    "            continue; \n",
    "\n",
    "        c = 1; \n",
    "\n",
    "        for b in range(2, ((a // 2) + 1), 1): \n",
    "            if (a % b == 0): \n",
    "                c = 0; \n",
    "                break; \n",
    "\n",
    "        if (c == 1): \n",
    "            print(a, end = \" \"); \n",
    "\n",
    "N = 50; \n",
    "print_first_N_primes(N);"
   ]
  },
  {
   "cell_type": "code",
   "execution_count": null,
   "metadata": {},
   "outputs": [],
   "source": []
  }
 ],
 "metadata": {
  "kernelspec": {
   "display_name": "Python 3",
   "language": "python",
   "name": "python3"
  },
  "language_info": {
   "codemirror_mode": {
    "name": "ipython",
    "version": 3
   },
   "file_extension": ".py",
   "mimetype": "text/x-python",
   "name": "python",
   "nbconvert_exporter": "python",
   "pygments_lexer": "ipython3",
   "version": "3.7.4"
  }
 },
 "nbformat": 4,
 "nbformat_minor": 2
}
