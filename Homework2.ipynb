{
 "cells": [
  {
   "cell_type": "code",
   "execution_count": 1,
   "metadata": {},
   "outputs": [
    {
     "name": "stdout",
     "output_type": "stream",
     "text": [
      "we : 3\n",
      "all : 1\n",
      "know : 1\n",
      "that : 2\n",
      "words : 2\n",
      "can : 1\n",
      "tear : 1\n",
      "us : 1\n",
      "apart : 1\n",
      "especially : 1\n",
      "when : 1\n",
      "aimed : 1\n",
      "directly : 1\n",
      "at : 1\n",
      "the : 2\n",
      "heart : 1\n",
      "do : 2\n",
      "not : 2\n",
      "acknowledge : 1\n",
      "as : 1\n",
      "should : 1\n",
      "may : 1\n",
      "also : 1\n",
      "change : 1\n",
      "a : 4\n",
      "life : 1\n",
      "for : 1\n",
      "good : 1\n",
      "usually : 1\n",
      "just : 1\n",
      "beautiful : 1\n",
      "side : 1\n",
      "effects : 1\n",
      "of : 2\n",
      "time : 1\n",
      "taken : 1\n",
      "to : 2\n",
      "write : 1\n",
      "little : 1\n",
      "text : 1\n",
      "takes : 1\n",
      "more : 1\n",
      "than : 1\n",
      "moment : 1\n",
      "never : 1\n",
      "realizing : 1\n",
      "impact : 1\n",
      "word : 1\n",
      "or : 1\n",
      "two : 1\n"
     ]
    }
   ],
   "source": [
    "import string\n",
    "\n",
    "text = open(\"hm2.txt\", \"r\")\n",
    "\n",
    "d = dict()\n",
    "\n",
    "for line in text:\n",
    "    line = line.strip()\n",
    "\n",
    "    line = line.lower()\n",
    "\n",
    "    line = line.translate(line.maketrans(\"\", \"\", string.punctuation))\n",
    "\n",
    "    words = line.split(\" \")\n",
    "\n",
    "    for word in words:\n",
    "        if word in d:\n",
    "            d[word] = d[word] + 1\n",
    "        else:\n",
    "            d[word] = 1\n",
    "\n",
    "for key in list(d.keys()):\n",
    "    print(key, \":\", d[key])"
   ]
  },
  {
   "cell_type": "code",
   "execution_count": null,
   "metadata": {},
   "outputs": [],
   "source": []
  }
 ],
 "metadata": {
  "kernelspec": {
   "display_name": "Python 3",
   "language": "python",
   "name": "python3"
  },
  "language_info": {
   "codemirror_mode": {
    "name": "ipython",
    "version": 3
   },
   "file_extension": ".py",
   "mimetype": "text/x-python",
   "name": "python",
   "nbconvert_exporter": "python",
   "pygments_lexer": "ipython3",
   "version": "3.7.4"
  }
 },
 "nbformat": 4,
 "nbformat_minor": 2
}
