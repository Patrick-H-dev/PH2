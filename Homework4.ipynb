{
 "cells": [
  {
   "cell_type": "markdown",
   "metadata": {},
   "source": [
    "### Rozmiar folderu i podfolderów - rekurencja"
   ]
  },
  {
   "cell_type": "code",
   "execution_count": 1,
   "metadata": {},
   "outputs": [
    {
     "data": {
      "text/plain": [
       "'C:\\\\Users\\\\patri\\\\Desktop\\\\Python Projekt\\\\Zadania'"
      ]
     },
     "execution_count": 1,
     "metadata": {},
     "output_type": "execute_result"
    }
   ],
   "source": [
    "import os\n",
    "\n",
    "# Początkowa ścieżka do folderu który będzie sprawdzany\n",
    "start_dir = os.getcwd()\n",
    "start_dir"
   ]
  },
  {
   "cell_type": "code",
   "execution_count": 2,
   "metadata": {},
   "outputs": [
    {
     "name": "stdout",
     "output_type": "stream",
     "text": [
      "Total: 0.15 MB\n"
     ]
    }
   ],
   "source": [
    "total_size = 0\n",
    "\n",
    "def dir_size_rec(directory):\n",
    "    global total_size\n",
    "    cur_list = os.listdir('.')\n",
    "    # Zliczanie rozmiaru plików\n",
    "    for file in directory:\n",
    "        if os.path.isfile(file) == True:\n",
    "            total_size += os.path.getsize(file)\n",
    "    # Wchodzenie do podfolderów\n",
    "    for folder in directory:\n",
    "        if os.path.isfile(folder) == False:\n",
    "            os.chdir(os.getcwd() + \"\\\\\"  + folder)\n",
    "            cur_list = os.listdir('.')\n",
    "            # Rekurencja\n",
    "            dir_size_rec(cur_list)\n",
    "    os.chdir(start_dir)\n",
    "    \n",
    "    \n",
    "dir_size_rec(os.listdir('.'))\n",
    "\n",
    "print(\"Total:\",round(total_size * 0.000001,2), \"MB\")"
   ]
  }
 ],
 "metadata": {
  "kernelspec": {
   "display_name": "Python 3",
   "language": "python",
   "name": "python3"
  },
  "language_info": {
   "codemirror_mode": {
    "name": "ipython",
    "version": 3
   },
   "file_extension": ".py",
   "mimetype": "text/x-python",
   "name": "python",
   "nbconvert_exporter": "python",
   "pygments_lexer": "ipython3",
   "version": "3.7.4"
  }
 },
 "nbformat": 4,
 "nbformat_minor": 2
}
